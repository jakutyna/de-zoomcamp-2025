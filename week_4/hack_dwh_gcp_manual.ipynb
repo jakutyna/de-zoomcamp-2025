{
 "cells": [
  {
   "cell_type": "code",
   "execution_count": null,
   "metadata": {},
   "outputs": [],
   "source": [
    "import os\n",
    "\n",
    "from google.oauth2 import service_account\n",
    "import pandas as pd\n",
    "import pandas_gbq\n",
    "\n",
    "\n",
    "\n",
    "path_to_key = os.environ[\"GOOGLE_APPLICATION_CREDENTIALS\"]\n",
    "credentials = service_account.Credentials.from_service_account_file(\n",
    "    path_to_key,\n",
    ")\n",
    "project_id = \"de-zoomcamp-451821\"\n",
    "dataset = \"trips_data_all\"\n",
    "\n",
    "# Test connection\n",
    "sql = \"SELECT COUNT(*) FROM `trips_data_all.green_tripdata`;\"\n",
    "df = pandas_gbq.read_gbq(sql, project_id=project_id, credentials=credentials)\n",
    "df"
   ]
  },
  {
   "cell_type": "code",
   "execution_count": null,
   "metadata": {},
   "outputs": [],
   "source": [
    "url = \"https://github.com/DataTalksClub/nyc-tlc-data/releases/download\"\n",
    "data_path = \"../data/ny_taxi_data\"\n",
    "\n",
    "# taxi_type = \"green\"\n",
    "taxi_type = \"yellow\"\n",
    "# taxi_type = \"fhv\"\n",
    "years = [\n",
    "    \"2019\",\n",
    "    \"2020\",\n",
    "    ]\n",
    "months = [\"01\", \"02\", \"03\", \"04\", \"05\", \"06\", \"07\", \"08\", \"09\", \"10\", \"11\", \"12\"]\n",
    "\n",
    "for year in years:\n",
    "    for month in months:\n",
    "        filename = f\"{taxi_type}_tripdata_{year}-{month}.csv\"\n",
    "        filename_gz = filename + \".gz\"\n",
    "        os.system(\n",
    "            f\"wget {url}/{taxi_type}/{filename_gz} -O {data_path}/{filename_gz}\"\n",
    "        )\n",
    "        os.system(f\"gunzip {data_path}/{filename_gz}\")\n",
    "        df = pd.read_csv(f\"{data_path}/{filename}\")\n",
    "        print(f\"Uploading {filename} data to BigQuery.\")\n",
    "        pandas_gbq.to_gbq(df, f\"{dataset}.{taxi_type}_tripdata\", project_id=project_id, if_exists=\"append\")\n",
    "        os.system(f\"rm {data_path}/{filename}\")\n"
   ]
  }
 ],
 "metadata": {
  "kernelspec": {
   "display_name": "venv",
   "language": "python",
   "name": "python3"
  },
  "language_info": {
   "codemirror_mode": {
    "name": "ipython",
    "version": 3
   },
   "file_extension": ".py",
   "mimetype": "text/x-python",
   "name": "python",
   "nbconvert_exporter": "python",
   "pygments_lexer": "ipython3",
   "version": "3.9.6"
  }
 },
 "nbformat": 4,
 "nbformat_minor": 2
}

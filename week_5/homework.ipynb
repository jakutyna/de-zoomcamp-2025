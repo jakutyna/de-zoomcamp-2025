{
 "cells": [
  {
   "cell_type": "markdown",
   "metadata": {},
   "source": [
    "### Prepare data"
   ]
  },
  {
   "cell_type": "code",
   "execution_count": null,
   "metadata": {},
   "outputs": [],
   "source": [
    "!wget https://d37ci6vzurychx.cloudfront.net/trip-data/yellow_tripdata_2024-10.parquet  -P ./data/raw/yellow/ "
   ]
  },
  {
   "cell_type": "code",
   "execution_count": null,
   "metadata": {},
   "outputs": [],
   "source": [
    "import pyspark\n",
    "from pyspark.sql import SparkSession\n",
    "\n",
    "spark = SparkSession.builder \\\n",
    "    .master(\"local[*]\") \\\n",
    "    .appName('test') \\\n",
    "    .getOrCreate()\n",
    "\n",
    "df_yellow = spark.read \\\n",
    "    .parquet('./data/raw/yellow/')"
   ]
  },
  {
   "cell_type": "code",
   "execution_count": null,
   "metadata": {},
   "outputs": [],
   "source": [
    "df_yellow.show(5)"
   ]
  },
  {
   "cell_type": "code",
   "execution_count": null,
   "metadata": {},
   "outputs": [],
   "source": [
    "df_yellow.printSchema()"
   ]
  },
  {
   "cell_type": "markdown",
   "metadata": {},
   "source": [
    "### HW questions"
   ]
  },
  {
   "cell_type": "code",
   "execution_count": null,
   "metadata": {},
   "outputs": [],
   "source": [
    "# Q1\n",
    "spark.version"
   ]
  },
  {
   "cell_type": "code",
   "execution_count": null,
   "metadata": {},
   "outputs": [],
   "source": [
    "#Q2\n",
    "df_yellow = df_yellow.repartition(4)\n",
    "df_yellow.write.parquet(\"./data/parquet/yellow/\")"
   ]
  },
  {
   "cell_type": "code",
   "execution_count": null,
   "metadata": {},
   "outputs": [],
   "source": [
    "!ls -lh ./data/parquet/yellow/"
   ]
  },
  {
   "cell_type": "code",
   "execution_count": null,
   "metadata": {},
   "outputs": [],
   "source": [
    "#Q3\n",
    "from pyspark.sql import functions as F\n",
    "\n",
    "(\n",
    "    df_yellow.filter(\n",
    "        F.to_date(F.col(\"tpep_pickup_datetime\")) == \"2024-10-15\")\n",
    "    # .orderBy(\"tpep_pickup_datetime\", ascending=False)\n",
    ").count()"
   ]
  },
  {
   "cell_type": "code",
   "execution_count": null,
   "metadata": {},
   "outputs": [],
   "source": [
    "#Q3 - pandas\n",
    "from datetime import datetime\n",
    "\n",
    "import numpy as np\n",
    "import pandas as pd\n",
    "\n",
    "df_pd = pd.read_parquet(\"./data/parquet/yellow/\")\n",
    "df_pd[\"pickup_date\"] = df_pd[\"tpep_pickup_datetime\"].dt.date\n",
    "df_pd[df_pd[\"pickup_date\"] == datetime.strptime(\"2024-10-15\", \"%Y-%m-%d\").date()]\n"
   ]
  },
  {
   "cell_type": "code",
   "execution_count": null,
   "metadata": {},
   "outputs": [],
   "source": [
    "df_pd[\"tpep_pickup_str\"] = df_pd[\"tpep_pickup_datetime\"].astype(str).str.split(\" \").str[0]\n",
    "df_pd[\"pickup_str\"] = df_pd[\"pickup_date\"].astype(str)\n",
    "df_pd[df_pd[\"tpep_pickup_str\"] != df_pd[\"pickup_str\"]]"
   ]
  },
  {
   "cell_type": "code",
   "execution_count": null,
   "metadata": {},
   "outputs": [],
   "source": [
    "#Q4\n",
    "(\n",
    "    df_yellow\n",
    "        .withColumn(\"trip_duration\", \n",
    "                    (F.to_timestamp(F.col(\"tpep_dropoff_datetime\")).cast(\"long\") \n",
    "                     - F.to_timestamp(F.col(\"tpep_pickup_datetime\")).cast(\"long\")) / 3600\n",
    "                )\n",
    "        .select(\"tpep_dropoff_datetime\", \"tpep_pickup_datetime\", \"trip_duration\")\n",
    "        .orderBy(\"trip_duration\", ascending=False)\n",
    ").show(3)"
   ]
  },
  {
   "cell_type": "code",
   "execution_count": null,
   "metadata": {},
   "outputs": [],
   "source": [
    "max((pd.to_datetime(df_pd[\"tpep_dropoff_datetime\"])\n",
    " - pd.to_datetime(df_pd[\"tpep_pickup_datetime\"])) / np.timedelta64(1, 'h'))"
   ]
  },
  {
   "cell_type": "code",
   "execution_count": null,
   "metadata": {},
   "outputs": [],
   "source": [
    "!wget https://d37ci6vzurychx.cloudfront.net/misc/taxi_zone_lookup.csv  -P ./data/raw/lookup/ "
   ]
  },
  {
   "cell_type": "code",
   "execution_count": null,
   "metadata": {},
   "outputs": [],
   "source": [
    "df_lookup = spark.read \\\n",
    "        .option(\"header\", \"true\") \\\n",
    "        .csv(\"./data/raw/lookup/taxi_zone_lookup.csv\")\n",
    "\n",
    "df_lookup.show()"
   ]
  },
  {
   "cell_type": "code",
   "execution_count": null,
   "metadata": {},
   "outputs": [],
   "source": [
    "(\n",
    "    df_yellow\n",
    "    .join(df_lookup, df_yellow.PULocationID == df_lookup.LocationID, \"inner\")\n",
    "    .groupBy(\"Zone\").count()\n",
    "    .orderBy(\"count\")\n",
    ").head()"
   ]
  }
 ],
 "metadata": {
  "kernelspec": {
   "display_name": "venv",
   "language": "python",
   "name": "python3"
  },
  "language_info": {
   "codemirror_mode": {
    "name": "ipython",
    "version": 3
   },
   "file_extension": ".py",
   "mimetype": "text/x-python",
   "name": "python",
   "nbconvert_exporter": "python",
   "pygments_lexer": "ipython3",
   "version": "3.9.6"
  }
 },
 "nbformat": 4,
 "nbformat_minor": 2
}
